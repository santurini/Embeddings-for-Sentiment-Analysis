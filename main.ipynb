{
  "cells": [
    {
      "cell_type": "markdown",
      "metadata": {
        "id": "vtqmMBBFM5VB"
      },
      "source": [
        "# Encodings and sentence embeddings for sentiment analysis"
      ]
    },
    {
      "cell_type": "markdown",
      "metadata": {
        "id": "KCoIbBZcrYRH"
      },
      "source": [
        "## Imports"
      ]
    },
    {
      "cell_type": "code",
      "execution_count": null,
      "metadata": {
        "id": "GTVP9OLGrYRN"
      },
      "outputs": [],
      "source": [
        "import nltk;  from nltk import word_tokenize; from nltk.corpus import words; \n",
        "nltk.download('punkt'); nltk.download('stopwords'); nltk.download('words'); \n",
        "import pandas as pd \n",
        "import numpy as np\n",
        "import multiprocessing; import pickle; import time; import string\n",
        "from sklearn import metrics; import sklearn; \n",
        "from sklearn.preprocessing import OneHotEncoder, StandardScaler,LabelEncoder; \n",
        "from sklearn.metrics import ConfusionMatrixDisplay\n",
        "from sklearn.linear_model import LogisticRegression\n",
        "from sklearn.decomposition import PCA\n",
        "from sklearn.model_selection import GridSearchCV,RandomizedSearchCV\n",
        "from sklearn.ensemble import RandomForestClassifier\n",
        "from sklearn.feature_extraction.text import TfidfVectorizer, CountVectorizer;\n",
        "from sklearn.neighbors import KNeighborsClassifier\n",
        "from sklearn.pipeline import Pipeline \n",
        "import matplotlib.pyplot as plt"
      ]
    },
    {
      "cell_type": "code",
      "execution_count": null,
      "metadata": {
        "id": "puYHRVRFlwQk"
      },
      "outputs": [],
      "source": [
        "!pip install hypopt\n",
        "!pip install -U sentence-transformers;\n",
        "import pandas as pd;import numpy as np ;from sklearn.model_selection import train_test_split; from sklearn.model_selection import GridSearchCV, PredefinedSplit\n",
        "import nltk; from gensim.models import Word2Vec;nltk.download('punkt');nltk.download('stopwords'); import time; from hypopt import GridSearch;  from prettytable import PrettyTable;\n",
        "from nltk.corpus import stopwords;from nltk.stem.snowball import EnglishStemmer;from nltk import word_tokenize; from matplotlib import collections as matcoll\n",
        "from sentence_transformers import SentenceTransformer; from sentence_transformers.util import cos_sim; import matplotlib.pyplot as plt "
      ]
    },
    {
      "cell_type": "markdown",
      "metadata": {
        "id": "WzUBPiM89oU_"
      },
      "source": [
        "## Dataset\n",
        "\n",
        "Downloading the dataset.\n",
        "\n",
        "The dataset is a list of reviews, containing the text and the sentiment of the review; 1 represents a positive review, while 0 represents a negative review. "
      ]
    },
    {
      "cell_type": "code",
      "execution_count": null,
      "metadata": {
        "id": "CLJJe07B9oVG"
      },
      "outputs": [],
      "source": [
        "!pip install --upgrade --no-cache-dir gdown\n",
        "!gdown 1oDvIo7sMAlxdF82uMXkYEmoeV7P4evcs \n",
        "\n",
        "df = pd.read_csv('./hw3_data.csv', delimiter = ',', header =  None, names = ['review', 'type'])\n",
        "df.drop(np.where(df.isna())[0], inplace = True)"
      ]
    },
    {
      "cell_type": "markdown",
      "metadata": {
        "id": "qyULCTYnrYRO"
      },
      "source": [
        "## Tf-idf encoding\n",
        "In this part, we will perform a tf-idf encoding of the data,\n",
        "and then train a classifier, optimising its hyper-parameters.\n",
        "\n",
        "The goal is to maximise the f1-score on the test set."
      ]
    },
    {
      "cell_type": "markdown",
      "metadata": {
        "id": "S3F_8xyFrYRR"
      },
      "source": [
        "### Splitting the dataset\n",
        "Dividing the dataset into training set (85%) and test set (15%)."
      ]
    },
    {
      "cell_type": "code",
      "execution_count": null,
      "metadata": {
        "colab": {
          "base_uri": "https://localhost:8080/"
        },
        "id": "NZGG5YKHrYRR",
        "outputId": "2cf43ae8-7ef6-4827-d5e9-9eda8ef96824"
      },
      "outputs": [],
      "source": [
        "x = df['review'].to_numpy()\n",
        "y = df['type'].to_numpy()\n",
        "\n",
        "train_x, test_x, train_y, test_y = sklearn.model_selection.train_test_split(x, y, test_size=0.15, shuffle=True, random_state = 2468) "
      ]
    },
    {
      "cell_type": "markdown",
      "metadata": {
        "id": "rhHUtozr2KFd"
      },
      "source": [
        "### Tf-idf Vectorizer\n",
        "Creating an object that performs a tf-idf transformation on the data that also strip accents and a dictionary containing configurations for the tf-idf vectorizer."
      ]
    },
    {
      "cell_type": "code",
      "execution_count": null,
      "metadata": {
        "id": "jEHYs6Ox2KFj"
      },
      "outputs": [],
      "source": [
        "vectorizer = sklearn.feature_extraction.text.TfidfVectorizer(strip_accents = 'ascii', preprocessor = None)\n",
        "\n",
        "stemmer = nltk.stem.snowball.EnglishStemmer()\n",
        "english_stopwords = set(nltk.corpus.stopwords.words('english'))\n",
        "word_list = words.words()\n",
        "\n",
        "def stop(text):\n",
        "\tnostop_text = [ word for word in text  if word not in english_stopwords]\n",
        "\treturn nostop_text\n",
        "\n",
        "vectorizer_config = {'vect__tokenizer': [None, stop],\n",
        "                     'vect__ngram_range': [(1, 1), (1, 2)],\n",
        "                     'vect__norm': ['l1', 'l2']}"
      ]
    },
    {
      "cell_type": "markdown",
      "metadata": {
        "id": "ExTNrAB0rYRR"
      },
      "source": [
        "### Classifier pipeline"
      ]
    },
    {
      "cell_type": "code",
      "execution_count": null,
      "metadata": {
        "id": "Vqb_1UZwrYRS"
      },
      "outputs": [],
      "source": [
        "cores = multiprocessing.cpu_count()\n",
        "\n",
        "LR = LogisticRegression(n_jobs = cores)\n",
        "RF = RandomForestClassifier(n_jobs = cores)\n",
        "\n",
        "LR_config = {'C': [0.01, 0.05, 0.1, 0.5, 1]}\n",
        "RF_config = {'n_estimators': [10, 50, 75, 100, 125]}\n",
        "             \n",
        "# Logistic Regression             \n",
        "pipeline_LR = sklearn.pipeline.Pipeline([('vect', vectorizer), ('LR', LR)])\n",
        "\n",
        "parameters_LR = {'vect__tokenizer': vectorizer_config['vect__tokenizer'],\n",
        "                 'vect__ngram_range': vectorizer_config['vect__ngram_range'],\n",
        "                 'vect__norm': vectorizer_config['vect__norm'],\n",
        "                 'LR__C': LR_config['C']\n",
        "                }\n",
        "\n",
        "grid_search_LR = sklearn.model_selection.GridSearchCV(pipeline_LR, parameters_LR, scoring = 'f1', cv = 3)\n",
        "\n",
        "LR_hyper = grid_search_LR.fit(train_x, train_y)\n",
        "\n",
        "# Random Forest\n",
        "pipeline_RF = sklearn.pipeline.Pipeline([('vect', vectorizer), ('RF', RF)])\n",
        "\n",
        "parameters_RF = {'vect__tokenizer': vectorizer_config['vect__tokenizer'],\n",
        "                 'vect__ngram_range': vectorizer_config['vect__ngram_range'],\n",
        "                 'vect__norm': vectorizer_config['vect__norm'],\n",
        "                 'RF__n_estimators': RF_config['n_estimators']\n",
        "                }\n",
        "\n",
        "random_search_RF = sklearn.model_selection.RandomizedSearchCV(pipeline_RF, parameters_RF, scoring = 'f1', cv = 3)\n",
        "\n",
        "RF_hyper = random_search_RF.fit(train_x, train_y)\n",
        "\n"
      ]
    },
    {
      "cell_type": "markdown",
      "metadata": {
        "id": "DcxLpyBq-ygQ"
      },
      "source": [
        "### Top-3 configurations boxplots on f1-score"
      ]
    },
    {
      "cell_type": "code",
      "execution_count": null,
      "metadata": {
        "colab": {
          "base_uri": "https://localhost:8080/",
          "height": 767
        },
        "id": "1cj7Gn9O-ygg",
        "outputId": "ced2efc6-ea5c-49c4-b7b4-8e3a88cf3f7a"
      },
      "outputs": [],
      "source": [
        "LR_1_df=pd.DataFrame.from_dict(LR_hyper.cv_results_).sort_values('mean_test_score',ascending=False).rename(columns = {'param_LR__C': 'C', 'param_vect__tokenizer': 'tokenizer', 'param_vect__norm': 'norm',\t'param_vect__ngram_range': 'ngram_range'})\n",
        "\n",
        "RF_1_df = pd.DataFrame.from_dict(RF_hyper.cv_results_).sort_values('mean_test_score',ascending=False).rename(columns = {'param_vect__tokenizer': 'tokenizer', 'param_vect__norm': 'norm',\t'param_vect__ngram_range': 'ngram_range',\t'param_RF__n_estimators': 'n_estimators'})   \n",
        "\n",
        "dict_LR = {}; dict_RF = {}\n",
        "\n",
        "for i in range(3): \n",
        "\n",
        "  mean_LR = LR_1_df.iloc[i, 12]; sd_LR = LR_1_df.iloc[i, 13]\n",
        "  mean_RF = RF_1_df.iloc[i, 12]; sd_RF = RF_1_df.iloc[i, 13]\n",
        "  dict_LR[f\"{i+1}\"] = [mean_LR, mean_LR - sd_LR, mean_LR + sd_LR]\n",
        "  dict_RF[f\"{i+1}\"] = [mean_RF, mean_RF - sd_RF, mean_RF + sd_RF]\n",
        "\n",
        "plt.figure(figsize=(16, 8));\n",
        "\n",
        "ax1 = plt.subplot(1,2,1); ax1.set_title('Logistic Regression');\n",
        "ax2 = plt.subplot(1,2,2); ax2.set_title('Random Forest');\n",
        "\n",
        "ax1.set_xticklabels(dict_LR.keys()); ax2.set_xticklabels(dict_RF.keys());\n",
        "ax1.boxplot(dict_LR.values(), patch_artist=True); ax2.boxplot(dict_RF.values(), patch_artist=True);"
      ]
    },
    {
      "cell_type": "markdown",
      "metadata": {
        "id": "hWVFUOX1-y4k"
      },
      "source": [
        "### Confusion matrix for best configurations"
      ]
    },
    {
      "cell_type": "code",
      "execution_count": null,
      "metadata": {
        "colab": {
          "base_uri": "https://localhost:8080/"
        },
        "id": "BTMKagGW-y4l",
        "outputId": "51f12c97-5a2c-422b-f665-a5b08020a38c"
      },
      "outputs": [],
      "source": [
        "# Logistic Regression\n",
        "pipeline_LR = sklearn.pipeline.Pipeline([('vect', vectorizer), ('LR', LR)])\n",
        "\n",
        "pipeline_LR.set_params(**{'LR__C':1, 'vect__ngram_range': (1,2), 'vect__norm':'l2', 'vect__tokenizer':None})\n",
        "\n",
        "pipeline_LR.fit(train_x,train_y)\n",
        "\n",
        "pred_test_y = pipeline_LR.predict(test_x)\n",
        "\n",
        "confusion_matrix = metrics.confusion_matrix(test_y, pred_test_y)\n",
        "print(\"Confusion Matrix: LR top configuration\\n\",pd.DataFrame(confusion_matrix))\n",
        "print()\n",
        "\n",
        "# Random Forests\n",
        "pipeline_RF = sklearn.pipeline.Pipeline([('vect', vectorizer), ('RF', RF)])\n",
        "\n",
        "pipeline_RF.set_params(**{'RF__n_estimators':125, 'vect__ngram_range': (1,2), 'vect__norm':'l2', 'vect__tokenizer':None})\n",
        "\n",
        "pipeline_RF.fit(train_x,train_y)\n",
        "\n",
        "pred_test_y = pipeline_RF.predict(test_x)\n",
        "\n",
        "confusion_matrix = metrics.confusion_matrix(test_y, pred_test_y)\n",
        "print(\"Confusion Matrix: RF top configuration\\n\",pd.DataFrame(confusion_matrix))"
      ]
    },
    {
      "cell_type": "markdown",
      "metadata": {
        "id": "Cwbz2kzQrYRY"
      },
      "source": [
        "## Onehot encoding\n",
        "\n",
        "In this part, we will perform a one-hot encoding of the data, then train a classifier, optimising its hyper-parameters.\n",
        "\n",
        "The goal is to maximise accuracy on the test set."
      ]
    },
    {
      "cell_type": "code",
      "execution_count": null,
      "metadata": {
        "id": "GF-eXaJ_gpMV"
      },
      "outputs": [],
      "source": [
        "def text_preprocessing(text):\n",
        "  tkn = word_tokenize(text.lower().translate(str.maketrans('', '', string.punctuation)), language='english')\n",
        "  return [stemmer.stem(w) for w in tkn if ((w not in english_stopwords) and not w.isdigit())]\n",
        "\n",
        "D = []\n",
        "\n",
        "for doc in train_x:\n",
        "   tokens = text_preprocessing(doc)\n",
        "   for tkn in tokens: D.append(tkn)\n",
        "\n",
        "D = [w for w in set(D) if w in word_list]\n",
        "\n",
        "vectorizer = CountVectorizer(binary = True, strip_accents='ascii', preprocessor = lambda x: ' '.join(text_preprocessing(x)), vocabulary = D)\n",
        "\n",
        "mat = vectorizer.fit_transform(train_x)\n",
        "mat_test = vectorizer.fit_transform(test_x)"
      ]
    },
    {
      "cell_type": "markdown",
      "metadata": {
        "id": "JU-9m2ik4YQV"
      },
      "source": [
        "### PCA on the data\n",
        "Before training the classifier we transform the data using Principal Component Analysis estimating and selecting the best number of components."
      ]
    },
    {
      "cell_type": "code",
      "execution_count": null,
      "metadata": {
        "id": "54tCyCDm4YQY"
      },
      "outputs": [],
      "source": [
        "scaler = StandardScaler()\n",
        "\n",
        "mat = scaler.fit_transform(mat.toarray()) #we want words on cols to reduce them\n",
        "\n",
        "pca = PCA(n_components=100, random_state =2468) #for sure we can't handle more\n",
        "pca_train = pca.fit_transform(mat) \n",
        "\n",
        "cum_var = np.cumsum(pca.explained_variance_ratio_)"
      ]
    },
    {
      "cell_type": "markdown",
      "metadata": {},
      "source": [
        "### Scree-plot"
      ]
    },
    {
      "cell_type": "code",
      "execution_count": null,
      "metadata": {
        "colab": {
          "base_uri": "https://localhost:8080/",
          "height": 513
        },
        "id": "Plang23Xu2ou",
        "outputId": "fedd2cb5-424a-44d2-956b-532e7fa32081"
      },
      "outputs": [
        {
          "data": {
            "image/png": "[encoded data removed]",
            "text/plain": [
              "<Figure size 1152x576 with 1 Axes>"
            ]
          },
          "metadata": {
            "needs_background": "light"
          },
          "output_type": "display_data"
        }
      ],
      "source": [
        "plt.figure(figsize=(16, 8))\n",
        "\n",
        "values = range(1,21)\n",
        "\n",
        "plt.plot(values, pca.explained_variance_ratio_[:20], 'o-', linewidth=2, color='blue')\n",
        "plt.title('Scree Plot of first 20 components')\n",
        "plt.xlabel('Principal Component');\n",
        "plt.ylabel('Variance Explained');\n",
        "\n",
        "pca_train_red = pca_train[:,:10] # take first 10 components\n",
        "\n",
        "mat_test = scaler.transform(mat_test.toarray()) #apply pca to the test\n",
        "pca_test = pca.transform(mat_test)\n",
        "pca_test = pca_test[:,:10] "
      ]
    },
    {
      "cell_type": "markdown",
      "metadata": {
        "id": "wvM51eFn4YWT"
      },
      "source": [
        "### KNeighborsClassifier\n",
        "Constraints:\n",
        "  * The algorithm used must be **\"brute\"**.\n",
        "  * No *parallelization* \n",
        "  * A **9-fold** Cross-Validation must be performed\n",
        "  * Test **exactly 20** configurations\n",
        "  * Optimisation CANNOT take longer than **100 seconds**"
      ]
    },
    {
      "cell_type": "code",
      "execution_count": null,
      "metadata": {
        "colab": {
          "base_uri": "https://localhost:8080/"
        },
        "id": "nJlYmro14YWU",
        "outputId": "e536bdf0-d9ca-4442-d5ce-f163afe71b53"
      },
      "outputs": [],
      "source": [
        "clf = KNeighborsClassifier(algorithm='brute')\n",
        "\n",
        "param_grid = {'n_neighbors': [1,2,3], \n",
        "              'metric':['cosine','chebyshev','cityblock','euclidean'],\n",
        "              'weights' : ['uniform','distance']}\n",
        "\n",
        "rs = RandomizedSearchCV(clf, param_distributions=param_grid, scoring='accuracy', cv=9, n_iter = 20)\n",
        "\n",
        "rs.fit(pca_train_red,train_y)\n",
        "\n",
        "neigh = KNeighborsClassifier(algorithm ='brute',weights ='distance', n_neighbors= 3, metric ='cityblock').fit(pca_train_red, train_y)\n",
        "\n",
        "disp = ConfusionMatrixDisplay.from_estimator(neigh,pca_test,test_y,cmap=plt.cm.Blues)"
      ]
    },
    {
      "cell_type": "markdown",
      "metadata": {
        "id": "rk-JaiE_hB8h"
      },
      "source": [
        "## Transformers\n",
        "In this part, we will use a Transformer to obtain sentence embeddings for each document.\n",
        "\n",
        "We will then train a classifier, optimising its hyper-parameters.\n",
        "\n",
        "The goal is to maximise precision on the test set, but it is necessary to have a recall of **at least 70%**, according to the optimisation results.\n"
      ]
    },
    {
      "cell_type": "markdown",
      "metadata": {
        "id": "Mz5AtR_6ge6h"
      },
      "source": [
        "### Validation set\n",
        "Separating the training set into two parts: training set and validation set, with a **75/25 split**."
      ]
    },
    {
      "cell_type": "code",
      "execution_count": null,
      "metadata": {
        "colab": {
          "base_uri": "https://localhost:8080/"
        },
        "id": "k5WUCZAd_CG0",
        "outputId": "001d1b57-69d3-472e-e2c3-466850da04ab"
      },
      "outputs": [],
      "source": [
        "train_x, val_x, train_y, val_y = sklearn.model_selection.train_test_split(train_x, train_y, test_size=0.25, shuffle=True, random_state = 2468) "
      ]
    },
    {
      "cell_type": "markdown",
      "metadata": {
        "id": "MeJlxd5BZjRI"
      },
      "source": [
        "### Sentence transformers"
      ]
    },
    {
      "cell_type": "code",
      "execution_count": null,
      "metadata": {
        "id": "WTSwJXbkZqp5"
      },
      "outputs": [],
      "source": [
        "#YOUR CODE STARTS HERE#\n",
        "\n",
        "model_1 = SentenceTransformer(\"paraphrase-MiniLM-L3-v2\")\n",
        "model_2 = SentenceTransformer(\"all-MiniLM-L6-v2\")\n",
        "\n",
        "# paraphrase-MiniLM-L3-v2\n",
        "emb_1_train = model_1.encode(train_x)\n",
        "emb_1_val = model_1.encode(val_x)\n",
        "emb_1_test = model_1.encode(test_x)\n",
        "\n",
        "# all-MiniLM-L6-v2\n",
        "emb_2_train = model_2.encode(train_x)\n",
        "emb_2_val = model_2.encode(val_x)\n",
        "emb_2_test = model_2.encode(test_x)"
      ]
    },
    {
      "cell_type": "markdown",
      "metadata": {
        "id": "9rqpaEKvZupX"
      },
      "source": [
        "### Classifier pipeline"
      ]
    },
    {
      "cell_type": "code",
      "execution_count": null,
      "metadata": {
        "id": "A05Rgv64Zvde"
      },
      "outputs": [],
      "source": [
        "from sklearn.neighbors import KNeighborsClassifier\n",
        "KNN = KNeighborsClassifier()\n",
        "\n",
        "# Grid-search all parameter combinations using a validation set.\n",
        "param_grid =  {'leaf_size': [10, 20, 30], 'n_neighbors': [3, 5, 10, 15], 'p': [1, 2]}\n",
        "\n",
        "# paraphrase-MiniLM-L3-v2\n",
        "opt_1 = GridSearch(model = KNN, param_grid = param_grid)\n",
        "opt_1.fit(emb_1_train, train_y, emb_1_val, val_y)\n",
        "\n",
        "# all-MiniLM-L6-v2\n",
        "opt_2 = GridSearch(model = KNN, param_grid = param_grid)\n",
        "opt_2.fit(emb_2_train, train_y, emb_2_val, val_y)\n"
      ]
    },
    {
      "cell_type": "markdown",
      "metadata": {},
      "source": [
        "# Results"
      ]
    },
    {
      "cell_type": "code",
      "execution_count": null,
      "metadata": {
        "colab": {
          "base_uri": "https://localhost:8080/"
        },
        "id": "g4TbBIC_fDfE",
        "outputId": "a440600a-2ec0-4e92-df60-d485d356322c"
      },
      "outputs": [
        {
          "name": "stdout",
          "output_type": "stream",
          "text": [
            "Model 1: \n",
            " +----------------------------------------------+--------------------+\n",
            "|                  Parameters                  |      Accuracy      |\n",
            "+----------------------------------------------+--------------------+\n",
            "| {'leaf_size': 10, 'n_neighbors': 15, 'p': 1} | 0.7348255696713047 |\n",
            "| {'leaf_size': 20, 'n_neighbors': 15, 'p': 1} | 0.7348255696713047 |\n",
            "| {'leaf_size': 30, 'n_neighbors': 15, 'p': 1} | 0.7348255696713047 |\n",
            "| {'leaf_size': 30, 'n_neighbors': 15, 'p': 2} | 0.7324057269610809 |\n",
            "| {'leaf_size': 10, 'n_neighbors': 15, 'p': 2} | 0.7324057269610809 |\n",
            "| {'leaf_size': 20, 'n_neighbors': 15, 'p': 2} | 0.7324057269610809 |\n",
            "| {'leaf_size': 30, 'n_neighbors': 10, 'p': 2} | 0.7162734422262553 |\n",
            "| {'leaf_size': 10, 'n_neighbors': 10, 'p': 2} | 0.7162734422262553 |\n",
            "| {'leaf_size': 20, 'n_neighbors': 10, 'p': 2} | 0.7162734422262553 |\n",
            "| {'leaf_size': 30, 'n_neighbors': 10, 'p': 1} | 0.7124420246017342 |\n",
            "| {'leaf_size': 10, 'n_neighbors': 10, 'p': 1} | 0.7124420246017342 |\n",
            "| {'leaf_size': 20, 'n_neighbors': 10, 'p': 1} | 0.7124420246017342 |\n",
            "| {'leaf_size': 10, 'n_neighbors': 5, 'p': 2}  | 0.7090139140955838 |\n",
            "| {'leaf_size': 20, 'n_neighbors': 5, 'p': 2}  | 0.7090139140955838 |\n",
            "| {'leaf_size': 30, 'n_neighbors': 5, 'p': 2}  | 0.7090139140955838 |\n",
            "| {'leaf_size': 20, 'n_neighbors': 5, 'p': 1}  | 0.7080056462996572 |\n",
            "| {'leaf_size': 30, 'n_neighbors': 5, 'p': 1}  | 0.7080056462996572 |\n",
            "| {'leaf_size': 10, 'n_neighbors': 5, 'p': 1}  | 0.7080056462996572 |\n",
            "| {'leaf_size': 20, 'n_neighbors': 3, 'p': 2}  | 0.7023593466424682 |\n",
            "| {'leaf_size': 30, 'n_neighbors': 3, 'p': 2}  | 0.7023593466424682 |\n",
            "| {'leaf_size': 10, 'n_neighbors': 3, 'p': 2}  | 0.7023593466424682 |\n",
            "| {'leaf_size': 20, 'n_neighbors': 3, 'p': 1}  | 0.7011494252873564 |\n",
            "| {'leaf_size': 30, 'n_neighbors': 3, 'p': 1}  | 0.7011494252873564 |\n",
            "| {'leaf_size': 10, 'n_neighbors': 3, 'p': 1}  | 0.7011494252873564 |\n",
            "+----------------------------------------------+--------------------+\n",
            "Model 2: \n",
            " +----------------------------------------------+--------------------+\n",
            "|                  Parameters                  |      Accuracy      |\n",
            "+----------------------------------------------+--------------------+\n",
            "| {'leaf_size': 30, 'n_neighbors': 15, 'p': 2} | 0.721113127646703  |\n",
            "| {'leaf_size': 20, 'n_neighbors': 15, 'p': 2} | 0.721113127646703  |\n",
            "| {'leaf_size': 10, 'n_neighbors': 15, 'p': 2} | 0.721113127646703  |\n",
            "| {'leaf_size': 10, 'n_neighbors': 5, 'p': 2}  | 0.7188949384956644 |\n",
            "| {'leaf_size': 20, 'n_neighbors': 5, 'p': 2}  | 0.7188949384956644 |\n",
            "| {'leaf_size': 30, 'n_neighbors': 5, 'p': 2}  | 0.7188949384956644 |\n",
            "| {'leaf_size': 20, 'n_neighbors': 10, 'p': 1} | 0.7184916313772938 |\n",
            "| {'leaf_size': 10, 'n_neighbors': 10, 'p': 1} | 0.7184916313772938 |\n",
            "| {'leaf_size': 30, 'n_neighbors': 10, 'p': 1} | 0.7184916313772938 |\n",
            "| {'leaf_size': 10, 'n_neighbors': 10, 'p': 2} | 0.7172817100221819 |\n",
            "| {'leaf_size': 20, 'n_neighbors': 10, 'p': 2} | 0.7172817100221819 |\n",
            "| {'leaf_size': 30, 'n_neighbors': 10, 'p': 2} | 0.7172817100221819 |\n",
            "| {'leaf_size': 20, 'n_neighbors': 15, 'p': 1} | 0.7144585601935874 |\n",
            "| {'leaf_size': 30, 'n_neighbors': 15, 'p': 1} | 0.7144585601935874 |\n",
            "| {'leaf_size': 10, 'n_neighbors': 15, 'p': 1} | 0.7144585601935874 |\n",
            "| {'leaf_size': 30, 'n_neighbors': 5, 'p': 1}  | 0.7112321032466223 |\n",
            "| {'leaf_size': 10, 'n_neighbors': 5, 'p': 1}  | 0.7112321032466223 |\n",
            "| {'leaf_size': 20, 'n_neighbors': 5, 'p': 1}  | 0.7112321032466223 |\n",
            "| {'leaf_size': 10, 'n_neighbors': 3, 'p': 1}  | 0.7106271425690663 |\n",
            "| {'leaf_size': 20, 'n_neighbors': 3, 'p': 1}  | 0.7106271425690663 |\n",
            "| {'leaf_size': 30, 'n_neighbors': 3, 'p': 1}  | 0.7106271425690663 |\n",
            "| {'leaf_size': 30, 'n_neighbors': 3, 'p': 2}  | 0.7055858035894333 |\n",
            "| {'leaf_size': 10, 'n_neighbors': 3, 'p': 2}  | 0.7055858035894333 |\n",
            "| {'leaf_size': 20, 'n_neighbors': 3, 'p': 2}  | 0.7055858035894333 |\n",
            "+----------------------------------------------+--------------------+\n"
          ]
        }
      ],
      "source": [
        "x = []; y = []; \n",
        "for i in range(len(opt_1.param_scores)):\n",
        "  x.append(opt_1.param_scores[i][0])\n",
        "  y.append(opt_1.param_scores[i][1])\n",
        "\n",
        "z = []; w = [];\n",
        "for i in range(len(opt_2.param_scores)):\n",
        "  z.append(opt_2.param_scores[i][0])\n",
        "  w.append(opt_2.param_scores[i][1])\n",
        "\n",
        "\n",
        "t = PrettyTable(['Parameters', 'Accuracy'])\n",
        "t_1 = PrettyTable(['Parameters', 'Accuracy']) \n",
        "for i in list(zip(x,y)):\n",
        "    t.add_row(i)\n",
        "for i in list(zip(z,w)):\n",
        "    t_1.add_row(i)\n",
        "\n",
        "print(\"Model 1: \\n\",t)\n",
        "print(\"Model 2: \\n\",t_1)\n",
        "\n",
        "x_1 = np.arange(1,25)\n",
        "x_2 = np.arange(1,25)\n",
        "\n",
        "lines = []; lines_2 = [];\n",
        "\n",
        "for i in range(len(x_1)):\n",
        "    pair=[(x_1[i],0), (x_1[i], y[i])]\n",
        "    lines.append(pair)\n",
        "    \n",
        "    pair_1=[(x_2[i],0), (x_2[i], w[i])]\n",
        "    lines_2.append(pair_1)"
      ]
    },
    {
      "cell_type": "markdown",
      "metadata": {
        "id": "lBnOS1InfF4T"
      },
      "source": [
        "### Confusion Matrix\n",
        "Confusion matrix of the combination of hyper-parameters that achieves the best performance."
      ]
    },
    {
      "cell_type": "code",
      "execution_count": null,
      "metadata": {
        "colab": {
          "base_uri": "https://localhost:8080/",
          "height": 314
        },
        "id": "tz3cg5gVZ-C2",
        "outputId": "bab0d7f5-1523-4883-e4d8-d6c942790504"
      },
      "outputs": [
        {
          "name": "stdout",
          "output_type": "stream",
          "text": [
            "----- CONFUSION MATRIX -----\n",
            "\n"
          ]
        },
        {
          "data": {
            "image/png": "[encoded data removed]",
            "text/plain": [
              "<Figure size 432x288 with 2 Axes>"
            ]
          },
          "metadata": {
            "needs_background": "light"
          },
          "output_type": "display_data"
        }
      ],
      "source": [
        "disp = ConfusionMatrixDisplay.from_estimator(opt_1.model, emb_1_test, test_y, cmap=plt.cm.Blues) # opt_1.model is the best combination model"
      ]
    },
    {
      "cell_type": "markdown",
      "metadata": {
        "id": "JSWFJqVOaH8n"
      },
      "source": [
        "### 512 length sentence embeddings"
      ]
    },
    {
      "cell_type": "code",
      "execution_count": null,
      "metadata": {
        "colab": {
          "base_uri": "https://localhost:8080/",
          "height": 348
        },
        "id": "f-jrKFU1Tnue",
        "outputId": "2dd3073d-92ab-42f1-8473-c7182f1c7ec9"
      },
      "outputs": [
        {
          "name": "stdout",
          "output_type": "stream",
          "text": [
            "Total time taken for the pipeline: 2.893823039531708\n",
            "\n",
            "----- CONFUSION MATRIX -----\n",
            "\n"
          ]
        },
        {
          "data": {
            "image/png": "[encoded data removed]",
            "text/plain": [
              "<Figure size 432x288 with 2 Axes>"
            ]
          },
          "metadata": {
            "needs_background": "light"
          },
          "output_type": "display_data"
        }
      ],
      "source": [
        "model = SentenceTransformer('distiluse-base-multilingual-cased-v2') # embeddings of length 512\n",
        "\n",
        "emb_1_train = model.encode(train_x)\n",
        "emb_1_val = model.encode(val_x)\n",
        "emb_1_test = model.encode(test_x)\n",
        "\n",
        "lr = LogisticRegression(n_jobs = -1)\n",
        "\n",
        "param_grid =  {'C': [0.1, 0.5, 1, 5, 10, 20]}\n",
        "\n",
        "split_index = [-1]*len(emb_1_train) + [0]*len(emb_1_val)\n",
        "X = np.concatenate((emb_1_train, emb_1_val), axis=0)\n",
        "y = np.concatenate((train_y, val_y), axis=0)\n",
        "pds = PredefinedSplit(test_fold = split_index)\n",
        "\n",
        "# Use PredefinedSplit in GridSearchCV\n",
        "opt_1 = GridSearchCV(estimator=lr, cv=pds, param_grid=param_grid, scoring='precision')\n",
        "opt_1.fit(X, y)\n",
        "\n",
        "\n",
        "lr = opt_1.best_estimator_\n",
        "\n",
        "print('----- CONFUSION MATRIX -----')\n",
        "print()\n",
        "ConfusionMatrixDisplay.from_estimator(lr, emb_1_test, test_y, cmap=plt.cm.Blues);"
      ]
    }
  ],
  "metadata": {
    "accelerator": "GPU",
    "colab": {
      "collapsed_sections": [
        "vtqmMBBFM5VB",
        "l4lz07FFZj9C",
        "UDqenDoaZEuy",
        "ElJWkdNXShsb"
      ],
      "name": "DMT2022_HW3.ipynb",
      "provenance": []
    },
    "kernelspec": {
      "display_name": "Python 3.10.6 64-bit (windows store)",
      "language": "python",
      "name": "python3"
    },
    "language_info": {
      "name": "python",
      "version": "3.10.6"
    },
    "vscode": {
      "interpreter": {
        "hash": "ac65af7bcc05c46018d2168487b380d12ed09a67d990cd7ad2a92d2f0784696d"
      }
    }
  },
  "nbformat": 4,
  "nbformat_minor": 0
}
